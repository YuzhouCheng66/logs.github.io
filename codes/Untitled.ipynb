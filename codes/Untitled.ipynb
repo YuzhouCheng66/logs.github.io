{
 "cells": [
  {
   "cell_type": "code",
   "execution_count": 12,
   "id": "64924e33-a9ce-4f3b-a9b6-a1381f5f25b0",
   "metadata": {
    "scrolled": true
   },
   "outputs": [
    {
     "name": "stderr",
     "output_type": "stream",
     "text": [
      "C:\\Users\\27118\\AppData\\Local\\Temp\\ipykernel_54492\\3008078305.py:29: DeprecationWarning: getsize is deprecated and will be removed in Pillow 10 (2023-07-01). Use getbbox or getlength instead.\n",
      "  tw, th = font.getsize(\"rendered with estimated pose\")\n"
     ]
    },
    {
     "data": {
      "text/plain": [
       "'C:/Users/27118/Desktop/logs.github.io/assets/StMarysChurch_transition_raw.mp4'"
      ]
     },
     "execution_count": 12,
     "metadata": {},
     "output_type": "execute_result"
    }
   ],
   "source": [
    "import cv2\n",
    "import numpy as np\n",
    "import subprocess\n",
    "from PIL import Image, ImageDraw, ImageFont\n",
    "\n",
    "# Paths\n",
    "orig_path = \"C:/Users/27118/Desktop/UCL/master_project/Appendix/pics2/StMarysChurch_orig.png\"\n",
    "render_path = \"C:/Users/27118/Desktop/UCL/master_project/Appendix/pics2/StMarysChurch_loc.png\"\n",
    "\n",
    "# === Step 1: Load images ===\n",
    "orig = cv2.imread(orig_path)\n",
    "render = cv2.imread(render_path)\n",
    "h, w = orig.shape[:2]\n",
    "render = cv2.resize(render, (w, h))\n",
    "\n",
    "# === Step 2: Add labels ===\n",
    "from PIL import ImageFont\n",
    "\n",
    "font = ImageFont.truetype(\"C:/Windows/Fonts/times.ttf\", 32)\n",
    "\n",
    "\n",
    "def draw_label(img_cv, text, position, color):\n",
    "    img_pil = Image.fromarray(cv2.cvtColor(img_cv, cv2.COLOR_BGR2RGB))\n",
    "    draw = ImageDraw.Draw(img_pil)\n",
    "    draw.text(position, text, font=font, fill=color)\n",
    "    return cv2.cvtColor(np.array(img_pil), cv2.COLOR_RGB2BGR)\n",
    "\n",
    "orig_labeled = draw_label(orig, \"query image\", (10, 10), (0, 0, 255))\n",
    "tw, th = font.getsize(\"rendered with estimated pose\")\n",
    "render_labeled = draw_label(render, \"rendered with estimated pose\", (w - tw - 10, h - th - 10), (0, 255, 0))\n",
    "\n",
    "# === Step 3: Create transition frames ===\n",
    "orig_f = orig_labeled.astype(np.float32) / 255.0\n",
    "render_f = render_labeled.astype(np.float32) / 255.0\n",
    "\n",
    "frames = []\n",
    "num_frames = 120\n",
    "pause_frames = 45\n",
    "line_thickness = 4\n",
    "\n",
    "def draw_transition(t, forward=True):\n",
    "    threshold = (t / (num_frames - 1)) * (w + h) if forward else (1 - t / (num_frames - 1)) * (w + h)\n",
    "    alpha = np.zeros((h, w), np.float32)\n",
    "    for y in range(h):\n",
    "        for x in range(w):\n",
    "            if x + y < threshold:\n",
    "                alpha[y, x] = 1.0\n",
    "    mask = np.stack([alpha]*3, axis=-1)\n",
    "    blended = (mask * render_f + (1 - mask) * orig_f) * 255\n",
    "    blended = blended.astype(np.uint8)\n",
    "\n",
    "    for y in range(h):\n",
    "        x = int(threshold - y)\n",
    "        if 0 <= x < w:\n",
    "            for dx in range(-line_thickness//2, line_thickness//2+1):\n",
    "                if 0 <= x+dx < w:\n",
    "                    blended[y, x+dx] = (255,255,255)\n",
    "\n",
    "    for i in range(line_thickness):\n",
    "        for x in range(w):\n",
    "            if 0 <= i < h:\n",
    "                blended[i, x] = (0,255,0) if x+i < threshold else (255,0,0)\n",
    "                blended[h-1-i, x] = (0,255,0) if x+(h-1-i) < threshold else (255,0,0)\n",
    "        for y in range(h):\n",
    "            if 0 <= i < w:\n",
    "                blended[y, i] = (0,255,0) if i+y < threshold else (255,0,0)\n",
    "                blended[y, w-1-i] = (0,255,0) if (w-1-i)+y < threshold else (255,0,0)\n",
    "\n",
    "    return blended\n",
    "\n",
    "for t in range(num_frames):\n",
    "    frames.append(draw_transition(t, forward=True))\n",
    "\n",
    "frames += [frames[-1]] * pause_frames\n",
    "\n",
    "for t in range(num_frames):\n",
    "    frames.append(draw_transition(t, forward=False))\n",
    "\n",
    "frames += [frames[-1]] * pause_frames\n",
    "\n",
    "# === Step 4: Save raw video ===\n",
    "raw_path = \"C:/Users/27118/Desktop/logs.github.io/assets/StMarysChurch_transition_raw.mp4\"\n",
    "out = cv2.VideoWriter(raw_path, cv2.VideoWriter_fourcc(*\"mp4v\"), 30, (w, h))\n",
    "for f in frames:\n",
    "    out.write(f)\n",
    "out.release()\n",
    "\n",
    "raw_path\n"
   ]
  },
  {
   "cell_type": "code",
   "execution_count": 13,
   "id": "4a6a3de4-1da4-43fb-98ce-f9997eae516a",
   "metadata": {},
   "outputs": [
    {
     "data": {
      "text/plain": [
       "'C:/Users/27118/Desktop/logs.github.io/assets/StMarysChurch_transition_h264.mp4'"
      ]
     },
     "execution_count": 13,
     "metadata": {},
     "output_type": "execute_result"
    }
   ],
   "source": [
    "# Step 5: Convert to H.264 encoded video\n",
    "h264_path = \"C:/Users/27118/Desktop/logs.github.io/assets/StMarysChurch_transition_h264.mp4\"\n",
    "subprocess.run([\n",
    "    \"ffmpeg\", \"-y\", \"-i\", \"C:/Users/27118/Desktop/logs.github.io/assets/StMarysChurch_transition_raw.mp4\",\n",
    "    \"-vcodec\", \"libx264\", \"-preset\", \"slow\",\n",
    "    \"-crf\", \"18\", \"-pix_fmt\", \"yuv420p\",\n",
    "    \"-movflags\", \"+faststart\", h264_path\n",
    "], stdout=subprocess.PIPE, stderr=subprocess.PIPE)\n",
    "\n",
    "h264_path\n"
   ]
  },
  {
   "cell_type": "code",
   "execution_count": 14,
   "id": "bc7af737-50f9-4a52-996b-73f6c27eb866",
   "metadata": {},
   "outputs": [
    {
     "name": "stdout",
     "output_type": "stream",
     "text": [
      "✅ 全部图像标注完成。\n"
     ]
    }
   ],
   "source": [
    "import os\n",
    "import cv2\n",
    "from PIL import Image, ImageDraw, ImageFont\n",
    "import numpy as np\n",
    "from pathlib import Path\n",
    "\n",
    "# === 配置 ===\n",
    "image_dir = Path(\"C:/Users/27118/Desktop/logs.github.io/assets\")\n",
    "font_path = \"C:/Windows/Fonts/times.ttf\"  # 使用 Times 字体\n",
    "font_size = 32\n",
    "font = ImageFont.truetype(font_path, font_size)\n",
    "output_suffix = \"_label\"\n",
    "\n",
    "# === 目标文件名 ===\n",
    "image_names = [\n",
    "    \"fire_compare.png\", \"heads_compare.png\", \"stairs_compare.png\",\n",
    "    \"pumpkin_compare.png\", \"chess_compare.png\", \"redkitchen_compare.png\",\n",
    "    \"office_compare.png\", \"KingsCollege_compare.png\",\n",
    "    \"ShopFacade_compare.png\", \"StMarysChurch_compare.png\"\n",
    "]\n",
    "\n",
    "# === 标注函数 ===\n",
    "def draw_label(img_cv, text, position, color):\n",
    "    img_pil = Image.fromarray(cv2.cvtColor(img_cv, cv2.COLOR_BGR2RGB))\n",
    "    draw = ImageDraw.Draw(img_pil)\n",
    "    draw.text(position, text, font=font, fill=color)\n",
    "    return cv2.cvtColor(np.array(img_pil), cv2.COLOR_RGB2BGR)\n",
    "\n",
    "# === 开始处理 ===\n",
    "for name in image_names:\n",
    "    path = image_dir / name\n",
    "    img_cv = cv2.imread(str(path))\n",
    "    if img_cv is None:\n",
    "        print(f\"读取失败：{name}\")\n",
    "        continue\n",
    "\n",
    "    h, w = img_cv.shape[:2]\n",
    "    tw1, th1 = font.getbbox(\"rendered with estimated pose\")[2:]\n",
    "    tw2, th2 = font.getbbox(\"query image\")[2:]\n",
    "\n",
    "    img_cv = draw_label(img_cv, \"rendered with estimated pose\", (w - tw1 - 10, 10), (0, 255, 0))\n",
    "    img_cv = draw_label(img_cv, \"query image\", (10, h - th2 - 10), (0, 0, 255))\n",
    "\n",
    "    output_path = image_dir / f\"{Path(name).stem}{output_suffix}.png\"\n",
    "    cv2.imwrite(str(output_path), img_cv)\n",
    "\n",
    "print(\"✅ 全部图像标注完成。\")\n"
   ]
  },
  {
   "cell_type": "code",
   "execution_count": null,
   "id": "441a3853-6e03-4921-9e8e-ec6c5bc76767",
   "metadata": {},
   "outputs": [],
   "source": []
  }
 ],
 "metadata": {
  "kernelspec": {
   "display_name": "Python 3 (ipykernel)",
   "language": "python",
   "name": "python3"
  },
  "language_info": {
   "codemirror_mode": {
    "name": "ipython",
    "version": 3
   },
   "file_extension": ".py",
   "mimetype": "text/x-python",
   "name": "python",
   "nbconvert_exporter": "python",
   "pygments_lexer": "ipython3",
   "version": "3.9.19"
  }
 },
 "nbformat": 4,
 "nbformat_minor": 5
}
